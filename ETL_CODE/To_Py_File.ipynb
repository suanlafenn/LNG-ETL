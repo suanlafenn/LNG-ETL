{
 "cells": [
  {
   "cell_type": "code",
   "execution_count": 3,
   "id": "f8a548a2",
   "metadata": {},
   "outputs": [
    {
     "name": "stdout",
     "output_type": "stream",
     "text": [
      "done\n"
     ]
    }
   ],
   "source": [
    "srcFolder = r'LNG+Code'\n",
    "desFolder = r'Py_File'\n",
    "\n",
    "import os\n",
    "import nbformat\n",
    "from nbconvert import PythonExporter\n",
    "\n",
    "def convertNotebook(notebookPath, modulePath):\n",
    "    with open(notebookPath) as fh:\n",
    "        nb = nbformat.reads(fh.read(), nbformat.NO_CONVERT)\n",
    "    exporter = PythonExporter()\n",
    "    source, meta = exporter.from_notebook_node(nb)\n",
    "    with open(modulePath, 'w+') as fh:\n",
    "        fh.writelines(source)\n",
    "\n",
    "# For folder creation if doesn't exist\n",
    "if not os.path.exists(desFolder):\n",
    "    os.makedirs(desFolder)\n",
    "\n",
    "for file in os.listdir(srcFolder):\n",
    "    if os.path.isdir(srcFolder + '\\\\' + file):\n",
    "        continue\n",
    "    if \".ipynb\" in file:\n",
    "        convertNotebook(srcFolder + '\\\\' + file, desFolder + '\\\\' + file[:-5] + \"py\")\n",
    "print('done')"
   ]
  },
  {
   "cell_type": "code",
   "execution_count": null,
   "id": "fff3a3e0",
   "metadata": {},
   "outputs": [],
   "source": []
  }
 ],
 "metadata": {
  "kernelspec": {
   "display_name": "Python 3 (ipykernel)",
   "language": "python",
   "name": "python3"
  },
  "language_info": {
   "codemirror_mode": {
    "name": "ipython",
    "version": 3
   },
   "file_extension": ".py",
   "mimetype": "text/x-python",
   "name": "python",
   "nbconvert_exporter": "python",
   "pygments_lexer": "ipython3",
   "version": "3.10.2"
  }
 },
 "nbformat": 4,
 "nbformat_minor": 5
}
